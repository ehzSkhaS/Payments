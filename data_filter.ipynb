{
 "cells": [
  {
   "cell_type": "code",
   "execution_count": 1,
   "metadata": {
    "extensions": {
     "jupyter_dashboards": {
      "version": 1,
      "views": {
       "default_view": {
        "col": 0,
        "height": 21,
        "row": 0,
        "width": 12
       }
      }
     }
    },
    "jupyter": {
     "source_hidden": true
    }
   },
   "outputs": [
    {
     "output_type": "display_data",
     "data": {
      "text/plain": "<IPython.core.display.HTML object>",
      "text/html": "<style type=\"text/css\">:root {    \n  --jp-layout-color0: #e9f8fa !important;    \n  }\n  \n.widget-dropdown > select {\n  background-color: #e7edf0 !important;\n  font-weight: bold !important;\n  color: #5e6b74 !important;\n  border: white !important;\n  border-radius: 15px !important;\n}\n\n.widget-button {\n  color: white !important;\n  border-radius: 15px !important;\n}\n\n.widget-text input[type=\"text\"]{\n  background-color: #e7edf0 !important;\n  font-weight: bold !important;\n  color: #5e6b74 !important;\n  border: white !important;\n  border-radius: 15px !important;\n}\n\n.jp-RenderedImage img{\n  border-radius: 10px !important;\n}\n</style>"
     },
     "metadata": {}
    },
    {
     "output_type": "display_data",
     "data": {
      "text/plain": "VBox(children=(Dropdown(layout=Layout(align_items='center', justify_content='center', width='150px'), options=…",
      "application/vnd.jupyter.widget-view+json": {
       "version_major": 2,
       "version_minor": 0,
       "model_id": "07f8885f367c4eb785ddb56fa2a1e9da"
      }
     },
     "metadata": {}
    },
    {
     "output_type": "display_data",
     "data": {
      "text/plain": "HBox(children=(Output(layout=Layout(align_items='center', display='flex', flex_flow='row', justify_content='ce…",
      "application/vnd.jupyter.widget-view+json": {
       "version_major": 2,
       "version_minor": 0,
       "model_id": "595671d390ae41128b93bff582c0887c"
      }
     },
     "metadata": {}
    }
   ],
   "source": [
    "import pandas as pd\n",
    "import ipywidgets as widget\n",
    "from ipywidgets import Layout\n",
    "from IPython.display import HTML, display, clear_output\n",
    "\n",
    "import sys\n",
    "sys.path.append('./core')\n",
    "import data_report\n",
    "import data_processing\n",
    "import data_graphs\n",
    "\n",
    "with open('template/variables.css') as f:\n",
    "    css = f.read().replace(';', ' !important;')\n",
    "display(HTML('<style type=\"text/css\">%s</style>'%css))\n",
    "\n",
    "pd.set_option('display.max_columns', None)\n",
    "pd.set_option('display.max_colwidth', None)\n",
    "               \n",
    "button_style = {'button_color' : '#5e6b74',\n",
    "               'font_weight' : 'bold'}\n",
    "items_layout = Layout(justify_content='center',\n",
    "                       align_items='center',\n",
    "                       width='150px')\n",
    "box_layout = Layout(display='flex',\n",
    "                    flex_flow='row',                    \n",
    "                    justify_content='center',\n",
    "                    align_items='center')\n",
    "box_layout2 = Layout(display='flex',\n",
    "                    flex_flow='column',                    \n",
    "                    justify_content='center',\n",
    "                    align_items='flex-start')\n",
    "\n",
    "style_dataframe = [dict(selector=\"caption\", props=[(\"color\", \"#5e6b74\"), \n",
    "                                                   (\"border-radius\", \"5px\"), \n",
    "                                                   (\"background\", \"#e7edf0\"), \n",
    "                                                   (\"font-weight\", \"bold\"),\n",
    "                                                   (\"font-size\", \"20px\")]), \n",
    "                   dict(selector=\"th.col_heading\", props=[(\"color\", \"white\"),\n",
    "                                                          (\"border-radius\", \"3px\"),\n",
    "                                                          (\"background\", \"#5e6b74\")]),\n",
    "                   dict(selector=\"th.blank.level0\", props=[(\"color\", \"#5e6b74\"),\n",
    "                                                          (\"border-radius\", \"3px\"),\n",
    "                                                          (\"background\", \"#5e6b74\")]),\n",
    "                   dict(selector=\"th\", props=[(\"color\", \"black\"),\n",
    "                                              (\"text-align\", \"center\")]),\n",
    "                   dict(selector=\"td\", props=[(\"color\", \"black\"),\n",
    "                                              (\"font-weight\", \"bold\"),\n",
    "                                              (\"text-align\", \"center\")])]\n",
    "                        \n",
    "year_text = 'Año'\n",
    "year_label = widget.HTML(value = f\"<b style='color:white; font-family:tahoma; font-size:18px; border-radius: 3px 3px 3px 3px'>{year_text}</b>\")\n",
    "year_menu = widget.Dropdown(options = [2021, 2022, 2023, 2024, 2025, 2026, 2027, 2028, 2029, 2030],\n",
    "                            value = 2021,                            \n",
    "                            layout = items_layout)\n",
    "\n",
    "month_text = 'Mes'\n",
    "month_label = widget.HTML(value = f\"<b style='color:white; font-family:tahoma; font-size:18px; border-radius: 3px 3px 3px 3px'>{month_text}</b>\")\n",
    "month_menu = widget.Dropdown(options = ['Enero', 'Febrero', 'Marzo', 'Abril', \n",
    "                                        'Mayo', 'Junio', 'Julio', 'Agosto', \n",
    "                                        'Septiembre', 'Octubre', 'Noviembre', 'Diciembre'],\n",
    "                            value = 'Enero',\n",
    "                            layout = items_layout)\n",
    "\n",
    "file_label = widget.HTML(value = f\"<b style='color:white; font-family:tahoma; font-size:18px; border-radius: 3px 3px 3px 3px'>Nombre del archivo</b>\")\n",
    "file_output = widget.Text(value ='Reporte',                          \n",
    "                          disable = False)\n",
    "\n",
    "out = widget.Output(layout=box_layout)\n",
    "\n",
    "# Salary Filter Button\n",
    "calculate1 = widget.Button(description = 'Salario',\n",
    "                          layout = items_layout,\n",
    "                          style = button_style)                              \n",
    "def on_calculate1_clicked(_):    \n",
    "    with out:\n",
    "        clear_output(wait=True)\n",
    "        month_number = data_processing.switcher_months[month_menu.value]\n",
    "        show_salary_on_date(year_menu.value, month_number)\n",
    "calculate1.on_click(on_calculate1_clicked)\n",
    "\n",
    "# Sub-Salary Filter Button\n",
    "calculate2 = widget.Button(description='Sub-Salario',\n",
    "                           layout=items_layout,\n",
    "                           style = button_style)\n",
    "def on_calculate2_clicked(_):    \n",
    "    with out:\n",
    "        clear_output(wait=True)\n",
    "        month_number = data_processing.switcher_months[month_menu.value]\n",
    "        show_worker_status_on_date(year_menu.value,month_number)\n",
    "calculate2.on_click(on_calculate2_clicked)\n",
    "\n",
    "# Work Filter Button\n",
    "calculate3 = widget.Button(description='Trabajo',\n",
    "                          layout=items_layout,\n",
    "                          style = button_style)\n",
    "def on_calculate3_clicked(_):    \n",
    "    with out:\n",
    "        clear_output(wait=True)\n",
    "        month_number = data_processing.switcher_months[month_menu.value]        \n",
    "        show_jobs_on_date(year_menu.value,month_number)     \n",
    "calculate3.on_click(on_calculate3_clicked)\n",
    "\n",
    "# Visualization Button\n",
    "graph = widget.Button(description='Graficar',\n",
    "                     layout=items_layout,\n",
    "                     style = button_style)\n",
    "def on_graph_clicked(_):\n",
    "    with out:\n",
    "        clear_output(wait=True)\n",
    "        month = data_processing.switcher_months[month_menu.value]\n",
    "        df_total_salary = pd.DataFrame(data_processing.total_salary_per_worker_date(year_menu.value,month))        \n",
    "        # sorting the data\n",
    "        df_total_salary.sort_values(by=['Salario Total'], inplace=True, ascending=True, ignore_index=True)\n",
    "        display(data_graphs.plot_data(df_total_salary))         \n",
    "graph.on_click(on_graph_clicked)\n",
    "\n",
    "# Save Button\n",
    "save = widget.Button(description='Guardar',\n",
    "                     layout=items_layout,\n",
    "                     style = button_style)\n",
    "def on_save_clicked(_):\n",
    "    with out:\n",
    "        clear_output(wait=True)\n",
    "        box = widget.Box([file_output, file_create], layout=box_layout)\n",
    "        display(box)            \n",
    "save.on_click(on_save_clicked)\n",
    "\n",
    "# Create Button\n",
    "file_create = widget.Button(description='Crear',\n",
    "                            layout=items_layout,\n",
    "                            style = button_style)\n",
    "def on_create_clicked(_):\n",
    "    with out:\n",
    "        month = data_processing.switcher_months[month_menu.value]\n",
    "        df_total_salary = pd.DataFrame(data_processing.total_salary_per_worker_date(year_menu.value,month))      \n",
    "        df_worker_status = pd.DataFrame(data_processing.status_per_worker_date(year_menu.value, month))       \n",
    "        t_worked = data_processing.job_done_per_worker_date(year_menu.value,month)\n",
    "        df_worked = 0\n",
    "        worker_list = []\n",
    "        df_worked_list = []        \n",
    "        for e in t_worked:\n",
    "            worker_list.append(str(e[0]) + \" \" + str(e[1]) + \" \" + str(e[2]))\n",
    "            df_worked = pd.DataFrame(e[3])    \n",
    "            df_worked = df_worked.dropna(axis=0)\n",
    "            df_worked_list.append(df_worked)        \n",
    "        if not df_total_salary.empty and not df_worker_status.empty and not df_worked.empty :                        \n",
    "            data_report.build_template(df_total_salary, df_worker_status, worker_list, df_worked_list, file_output.value)       \n",
    "file_create.on_click(on_create_clicked)\n",
    "\n",
    "# Error Button\n",
    "errors = widget.Button(description='Errores',\n",
    "                       layout=items_layout,\n",
    "                       style = button_style)\n",
    "def on_errors_clicked(_):\n",
    "    with out:     \n",
    "        clear_output(wait=True)\n",
    "        show_model_error()        \n",
    "errors.on_click(on_errors_clicked)\n",
    "\n",
    "box1 = widget.VBox([year_menu, month_menu, calculate1, calculate2, calculate3, graph, errors, save], layout=box_layout2)\n",
    "box2 = widget.HBox([out], layout=box_layout)\n",
    "\n",
    "light_cols = [\"Salario\"]\n",
    "\n",
    "def highlight_max(s):    \n",
    "    if s.name in light_cols:\n",
    "        is_max = s == s.max()\n",
    "        return ['background-color: green' if v else '' for v in is_max]\n",
    "    return [''] * len(s)\n",
    "\n",
    "def highlight_min(s):        \n",
    "    if s.name in light_cols:\n",
    "        is_min = s == s.min()\n",
    "        is_max = s == s.max()        \n",
    "        mods = []\n",
    "        for v in s:\n",
    "            print(v)\n",
    "            if v in is_min:\n",
    "                mods.append('background-color: yellow')\n",
    "            elif v in is_max:\n",
    "                mods.append('background-color: green')\n",
    "            else:\n",
    "                mods.append('')       \n",
    "        print(mods)\n",
    "        return mods        \n",
    "    return [''] * len(s)\n",
    "\n",
    "def load_data():\n",
    "    data_processing.traverse_dir()\n",
    "    data_processing.asociate_status_with_jobs()\n",
    "    \n",
    "def show_salary_on_date(year, month):\n",
    "    df_total_salary = pd.DataFrame(data_processing.total_salary_per_worker_date(year,month))\n",
    "    # sorting the data\n",
    "    df_total_salary.sort_values(by=['Salario Total'], inplace=True, ascending=False, ignore_index=True)\n",
    "    df_total_salary = (df_total_salary.style                                           \n",
    "                                            .set_table_styles(style_dataframe)\n",
    "                                            .set_caption(str(year) + \"/\" + str(month))\n",
    "                                            .format({'Salario Total':'$ {:.2f}'}))    \n",
    "    display(df_total_salary)    \n",
    "    \n",
    "def show_worker_status():\n",
    "    df_workers = pd.DataFrame(data_processing.status)\n",
    "    df_workers = df_workers.drop(['Trabajado'], axis=1)\n",
    "    df_workers = (df_workers.style\n",
    "                                  .set_table_styles(style_dataframe)\n",
    "                                  .set_caption(\"CONTROL DEL TRABAJO REALIZADO MENSUAL\")\n",
    "                                  .format({'Salario Escala':'$ {:d}', 'Salario':'$ {:.2f}'}))\n",
    "    display(df_workers)\n",
    "    \n",
    "def show_worker_status_on_date(year, month):\n",
    "    df_workers = pd.DataFrame(data_processing.status_per_worker_date(year, month))\n",
    "    # sorting the data\n",
    "    df_workers.sort_values(by=['C.I'], inplace=True, ascending=False, ignore_index=True)\n",
    "    df_workers = (df_workers.style                                  \n",
    "                                  .set_table_styles(style_dataframe)       \n",
    "                                  .set_caption(\"CONTROL DEL TRABAJO REALIZADO MENSUAL\")\n",
    "                                  .format({'Salario Escala':'$ {:d}',\n",
    "                                           'Salario':'$ {:.2f}'}))\n",
    "    display(df_workers)\n",
    "\n",
    "def show_jobs_on_date(year,month):\n",
    "    t_worked = data_processing.job_done_per_worker_date(year,month)\n",
    "    for e in t_worked:\n",
    "        df_worked = pd.DataFrame(e[3])    \n",
    "        df_worked = df_worked.drop([1, 2, 3, 4, 5, 6, 7, 8, 9, 10, \n",
    "                                    11, 12, 13, 14, 15, 16, 17, 18, 19, 20, \n",
    "                                    21, 22, 23, 24, 25, 26, 27, 28, 29, 30, 31], \n",
    "                                    axis=1)\n",
    "        df_worked = df_worked.dropna(axis=0)\n",
    "        df_worked = (df_worked.style                                    \n",
    "                                    .set_table_styles(style_dataframe)\n",
    "                                    .set_caption(\"Nombre: \" + str(e[0]) + \" C.I: \" + str(e[1]) + \" R.H: \" + str(e[2]))\n",
    "                                    .format({'TIEMPO DE REALIZACIÓN  (hrs)':'{:.2f}',\n",
    "                                             'Salario':'$ {:d}', \n",
    "                                             'Tarifa Salarial Horaria (hrs)':'$ {:.2f}',\n",
    "                                             'Importe por Remoto':'$ {:.2f}',\n",
    "                                             'Importe por Interrupción':'$ {:.2f}',\n",
    "                                             'Importe por Simultaneidad':'$ {:.2f}',\n",
    "                                             'Nocturnidad':'$ {:.2f}',\n",
    "                                             'Descuento por Calidad':'$ {:.2f}',\n",
    "                                             'Importe por Programa':'$ {:.2f}'}))          \n",
    "        display(df_worked)\n",
    "        \n",
    "def show_model_error():\n",
    "    df_errors = pd.DataFrame(data_processing.non_valid)\n",
    "    df_errors = (df_errors.style  \n",
    "                                .apply(lambda x: [\"background: #fd5352\" if v == \"Error\" else \"\" for v in x], axis=1)                                  \n",
    "                                .set_table_styles(style_dataframe)       \n",
    "                                .set_caption(\"ERRORES\"))                                  \n",
    "    display(df_errors)\n",
    "\n",
    "load_data()\n",
    "display(box1)\n",
    "display(box2)"
   ]
  }
 ],
 "metadata": {
  "extensions": {
   "jupyter_dashboards": {
    "activeView": "default_view",
    "version": 1,
    "views": {
     "default_view": {
      "cellMargin": 10,
      "defaultCellHeight": 40,
      "maxColumns": 12,
      "name": "active_view",
      "type": "grid"
     }
    }
   }
  },
  "kernelspec": {
   "display_name": "Python 3",
   "language": "python",
   "name": "python3"
  },
  "language_info": {
   "codemirror_mode": {
    "name": "ipython",
    "version": 3
   },
   "file_extension": ".py",
   "mimetype": "text/x-python",
   "name": "python",
   "nbconvert_exporter": "python",
   "pygments_lexer": "ipython3",
   "version": "3.7.7-final"
  },
  "widgets": {
   "application/vnd.jupyter.widget-state+json": {
    "state": {
     "00e8159ea96a41ce9b50481c8eeb3f17": {
      "model_module": "@jupyter-widgets/controls",
      "model_module_version": "1.5.0",
      "model_name": "HTMLModel",
      "state": {
       "layout": "IPY_MODEL_2e504da9f8fc4000aa74978cb17408a9",
       "style": "IPY_MODEL_11792b69a7054ee8bb86f12b8a3b8a50",
       "value": "<b style='color:white; font-family:tahoma; font-size:18px; border-radius: 3px 3px 3px 3px'>Mes</b>"
      }
     },
     "0aa35d94630842a596b619fedc53100e": {
      "model_module": "@jupyter-widgets/controls",
      "model_module_version": "1.5.0",
      "model_name": "ButtonModel",
      "state": {
       "description": "Guardar",
       "layout": "IPY_MODEL_104c40b6a3474cccac70fc677b93360f",
       "style": "IPY_MODEL_92f1b017eacd4925977230cfd423c8c3"
      }
     },
     "104c40b6a3474cccac70fc677b93360f": {
      "model_module": "@jupyter-widgets/base",
      "model_module_version": "1.2.0",
      "model_name": "LayoutModel",
      "state": {
       "align_items": "center",
       "justify_content": "center",
       "width": "150px"
      }
     },
     "108da69575f641e2a9fbebde2252f038": {
      "model_module": "@jupyter-widgets/controls",
      "model_module_version": "1.5.0",
      "model_name": "ButtonStyleModel",
      "state": {
       "button_color": "#5e6b74",
       "font_weight": "bold"
      }
     },
     "11792b69a7054ee8bb86f12b8a3b8a50": {
      "model_module": "@jupyter-widgets/controls",
      "model_module_version": "1.5.0",
      "model_name": "DescriptionStyleModel",
      "state": {
       "description_width": ""
      }
     },
     "18b700975c174946bb78410cd6b03da1": {
      "model_module": "@jupyter-widgets/controls",
      "model_module_version": "1.5.0",
      "model_name": "ButtonStyleModel",
      "state": {
       "button_color": "#5e6b74",
       "font_weight": "bold"
      }
     },
     "1952b00e046a47ba97b4729c80a2ff79": {
      "model_module": "@jupyter-widgets/controls",
      "model_module_version": "1.5.0",
      "model_name": "ButtonModel",
      "state": {
       "description": "Sub-Salario",
       "layout": "IPY_MODEL_104c40b6a3474cccac70fc677b93360f",
       "style": "IPY_MODEL_a4523104f568486a9ab8efb2c315b902"
      }
     },
     "2e504da9f8fc4000aa74978cb17408a9": {
      "model_module": "@jupyter-widgets/base",
      "model_module_version": "1.2.0",
      "model_name": "LayoutModel",
      "state": {}
     },
     "3970bcdf67fd48cdbb26ce9f6d3dd6f8": {
      "model_module": "@jupyter-widgets/controls",
      "model_module_version": "1.5.0",
      "model_name": "ButtonStyleModel",
      "state": {
       "button_color": "#5e6b74",
       "font_weight": "bold"
      }
     },
     "3f6b2cfb415f4c778dc20f258a2de303": {
      "model_module": "@jupyter-widgets/controls",
      "model_module_version": "1.5.0",
      "model_name": "TextModel",
      "state": {
       "layout": "IPY_MODEL_c3b63276ef4845b8aa2621e7ca0e7e83",
       "style": "IPY_MODEL_ab625981dbf04070aedf25d6193460e0",
       "value": "Reporte"
      }
     },
     "480d9c13d3a14abcb6ed692c7b127c5a": {
      "model_module": "@jupyter-widgets/controls",
      "model_module_version": "1.5.0",
      "model_name": "ButtonModel",
      "state": {
       "description": "Crear",
       "layout": "IPY_MODEL_104c40b6a3474cccac70fc677b93360f",
       "style": "IPY_MODEL_108da69575f641e2a9fbebde2252f038"
      }
     },
     "6318173db4204078b3c9ea6ab499bc95": {
      "model_module": "@jupyter-widgets/controls",
      "model_module_version": "1.5.0",
      "model_name": "HTMLModel",
      "state": {
       "layout": "IPY_MODEL_e0b56452b6c945e59e7b89bf48445bef",
       "style": "IPY_MODEL_ed1ba157fc4249eba5b4b4e894f82ca5",
       "value": "<b style='color:white; font-family:tahoma; font-size:18px; border-radius: 3px 3px 3px 3px'>Nombre del archivo</b>"
      }
     },
     "6903f1f9388e4b388414e5d3f7c1bdc5": {
      "model_module": "@jupyter-widgets/controls",
      "model_module_version": "1.5.0",
      "model_name": "DescriptionStyleModel",
      "state": {
       "description_width": ""
      }
     },
     "6a9b4d4cf0224588b2cb05639f9786dc": {
      "model_module": "@jupyter-widgets/controls",
      "model_module_version": "1.5.0",
      "model_name": "DropdownModel",
      "state": {
       "_options_labels": [
        "Enero",
        "Febrero",
        "Marzo",
        "Abril",
        "Mayo",
        "Junio",
        "Julio",
        "Agosto",
        "Septiembre",
        "Octubre",
        "Noviembre",
        "Diciembre"
       ],
       "index": 0,
       "layout": "IPY_MODEL_104c40b6a3474cccac70fc677b93360f",
       "style": "IPY_MODEL_f749c4f0de76473693180d37753661d8"
      }
     },
     "786cd49c1368423dbf0e6313ab5a51af": {
      "model_module": "@jupyter-widgets/controls",
      "model_module_version": "1.5.0",
      "model_name": "ButtonStyleModel",
      "state": {
       "button_color": "#5e6b74",
       "font_weight": "bold"
      }
     },
     "78cbdbf1eaaa4757927bde22a7c21ae9": {
      "model_module": "@jupyter-widgets/controls",
      "model_module_version": "1.5.0",
      "model_name": "HBoxModel",
      "state": {
       "children": [
        "IPY_MODEL_d0016054458a4044ad80983a9e135fcb"
       ],
       "layout": "IPY_MODEL_e3be96b44a4043a9bdbdb7309e5197ec"
      }
     },
     "7b1b2e8508bf48a3a3b69bd978e14d6c": {
      "model_module": "@jupyter-widgets/controls",
      "model_module_version": "1.5.0",
      "model_name": "DropdownModel",
      "state": {
       "_options_labels": [
        "2021",
        "2022",
        "2023",
        "2024",
        "2025",
        "2026",
        "2027",
        "2028",
        "2029",
        "2030"
       ],
       "index": 0,
       "layout": "IPY_MODEL_104c40b6a3474cccac70fc677b93360f",
       "style": "IPY_MODEL_91e7cede116a4a838d122b51551ed1ae"
      }
     },
     "8884613540874448979d9171adf551f9": {
      "model_module": "@jupyter-widgets/controls",
      "model_module_version": "1.5.0",
      "model_name": "ButtonModel",
      "state": {
       "description": "Graficar",
       "layout": "IPY_MODEL_104c40b6a3474cccac70fc677b93360f",
       "style": "IPY_MODEL_18b700975c174946bb78410cd6b03da1"
      }
     },
     "8fd440808ad64128a7e6e21c42b2eaa6": {
      "model_module": "@jupyter-widgets/controls",
      "model_module_version": "1.5.0",
      "model_name": "ButtonStyleModel",
      "state": {
       "button_color": "#5e6b74",
       "font_weight": "bold"
      }
     },
     "90cb03ad8a124998aab1f1ed36e86a81": {
      "model_module": "@jupyter-widgets/controls",
      "model_module_version": "1.5.0",
      "model_name": "ButtonModel",
      "state": {
       "description": "Errores",
       "layout": "IPY_MODEL_104c40b6a3474cccac70fc677b93360f",
       "style": "IPY_MODEL_786cd49c1368423dbf0e6313ab5a51af"
      }
     },
     "91e7cede116a4a838d122b51551ed1ae": {
      "model_module": "@jupyter-widgets/controls",
      "model_module_version": "1.5.0",
      "model_name": "DescriptionStyleModel",
      "state": {
       "description_width": ""
      }
     },
     "92f1b017eacd4925977230cfd423c8c3": {
      "model_module": "@jupyter-widgets/controls",
      "model_module_version": "1.5.0",
      "model_name": "ButtonStyleModel",
      "state": {
       "button_color": "#5e6b74",
       "font_weight": "bold"
      }
     },
     "a4523104f568486a9ab8efb2c315b902": {
      "model_module": "@jupyter-widgets/controls",
      "model_module_version": "1.5.0",
      "model_name": "ButtonStyleModel",
      "state": {
       "button_color": "#5e6b74",
       "font_weight": "bold"
      }
     },
     "a51800529ed94cf8a2606edbdb3c883f": {
      "model_module": "@jupyter-widgets/base",
      "model_module_version": "1.2.0",
      "model_name": "LayoutModel",
      "state": {}
     },
     "ab625981dbf04070aedf25d6193460e0": {
      "model_module": "@jupyter-widgets/controls",
      "model_module_version": "1.5.0",
      "model_name": "DescriptionStyleModel",
      "state": {
       "description_width": ""
      }
     },
     "ad1e438e2a314e1f898fd4c5e12af522": {
      "model_module": "@jupyter-widgets/base",
      "model_module_version": "1.2.0",
      "model_name": "LayoutModel",
      "state": {
       "align_items": "flex-start",
       "display": "flex",
       "flex_flow": "column",
       "justify_content": "center"
      }
     },
     "af80df003fa64b489e8f75ce471dbc0f": {
      "model_module": "@jupyter-widgets/controls",
      "model_module_version": "1.5.0",
      "model_name": "HTMLModel",
      "state": {
       "layout": "IPY_MODEL_a51800529ed94cf8a2606edbdb3c883f",
       "style": "IPY_MODEL_6903f1f9388e4b388414e5d3f7c1bdc5",
       "value": "<b style='color:white; font-family:tahoma; font-size:18px; border-radius: 3px 3px 3px 3px'>Año</b>"
      }
     },
     "c3b63276ef4845b8aa2621e7ca0e7e83": {
      "model_module": "@jupyter-widgets/base",
      "model_module_version": "1.2.0",
      "model_name": "LayoutModel",
      "state": {}
     },
     "c7afefa1cb3947aca2b0115bb4b5cca1": {
      "model_module": "@jupyter-widgets/controls",
      "model_module_version": "1.5.0",
      "model_name": "ButtonModel",
      "state": {
       "description": "Trabajo",
       "layout": "IPY_MODEL_104c40b6a3474cccac70fc677b93360f",
       "style": "IPY_MODEL_3970bcdf67fd48cdbb26ce9f6d3dd6f8"
      }
     },
     "d0016054458a4044ad80983a9e135fcb": {
      "model_module": "@jupyter-widgets/output",
      "model_module_version": "1.0.0",
      "model_name": "OutputModel",
      "state": {
       "layout": "IPY_MODEL_e3be96b44a4043a9bdbdb7309e5197ec",
       "outputs": [
        {
         "data": {
          "image/png": "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\n",
          "text/plain": "<Figure size 1080x1296 with 1 Axes>"
         },
         "metadata": {},
         "output_type": "display_data"
        }
       ]
      }
     },
     "e0b56452b6c945e59e7b89bf48445bef": {
      "model_module": "@jupyter-widgets/base",
      "model_module_version": "1.2.0",
      "model_name": "LayoutModel",
      "state": {}
     },
     "e3be96b44a4043a9bdbdb7309e5197ec": {
      "model_module": "@jupyter-widgets/base",
      "model_module_version": "1.2.0",
      "model_name": "LayoutModel",
      "state": {
       "align_items": "center",
       "display": "flex",
       "flex_flow": "row",
       "justify_content": "center"
      }
     },
     "e8065f3af15544b18d50d588dd768d6c": {
      "model_module": "@jupyter-widgets/controls",
      "model_module_version": "1.5.0",
      "model_name": "ButtonModel",
      "state": {
       "description": "Salario",
       "layout": "IPY_MODEL_104c40b6a3474cccac70fc677b93360f",
       "style": "IPY_MODEL_8fd440808ad64128a7e6e21c42b2eaa6"
      }
     },
     "ed1ba157fc4249eba5b4b4e894f82ca5": {
      "model_module": "@jupyter-widgets/controls",
      "model_module_version": "1.5.0",
      "model_name": "DescriptionStyleModel",
      "state": {
       "description_width": ""
      }
     },
     "efbd7c3a5f984a7eb705ea09ac0e4404": {
      "model_module": "@jupyter-widgets/controls",
      "model_module_version": "1.5.0",
      "model_name": "VBoxModel",
      "state": {
       "children": [
        "IPY_MODEL_7b1b2e8508bf48a3a3b69bd978e14d6c",
        "IPY_MODEL_6a9b4d4cf0224588b2cb05639f9786dc",
        "IPY_MODEL_e8065f3af15544b18d50d588dd768d6c",
        "IPY_MODEL_1952b00e046a47ba97b4729c80a2ff79",
        "IPY_MODEL_c7afefa1cb3947aca2b0115bb4b5cca1",
        "IPY_MODEL_8884613540874448979d9171adf551f9",
        "IPY_MODEL_90cb03ad8a124998aab1f1ed36e86a81",
        "IPY_MODEL_0aa35d94630842a596b619fedc53100e"
       ],
       "layout": "IPY_MODEL_ad1e438e2a314e1f898fd4c5e12af522"
      }
     },
     "f749c4f0de76473693180d37753661d8": {
      "model_module": "@jupyter-widgets/controls",
      "model_module_version": "1.5.0",
      "model_name": "DescriptionStyleModel",
      "state": {
       "description_width": ""
      }
     }
    },
    "version_major": 2,
    "version_minor": 0
   }
  }
 },
 "nbformat": 4,
 "nbformat_minor": 4
}