{
 "cells": [
  {
   "cell_type": "markdown",
   "metadata": {},
   "source": [
    "# <center><b>Payment System Installation Guide</b></center>"
   ]
  },
  {
   "cell_type": "markdown",
   "metadata": {},
   "source": [
    "> ## <center>Requirements</center>\n",
    "---\n",
    ">> <b><center>Anaconda3</center></b>\n",
    ">> <b><center>Nodejs</center></b>\n",
    ">> <b><center>Jupyter Lab Widgets</center></b>\n",
    ">> <b><center>Jupyter Hub</center></b>\n",
    ">> <b><center>VSFTP</center></b>\n",
    "---"
   ]
  },
  {
   "cell_type": "markdown",
   "metadata": {},
   "source": [
    "## <b><center>First Things First<center></b>"
   ]
  },
  {
   "cell_type": "markdown",
   "metadata": {},
   "source": [
    "> *create a folder on a common dir for anaconda installation*"
   ]
  },
  {
   "cell_type": "markdown",
   "metadata": {},
   "source": [
    ">> <b>sudo mkdir /opt/anaconda3</b>\n",
    "![title](images/im1.png)"
   ]
  },
  {
   "cell_type": "markdown",
   "metadata": {},
   "source": [
    "> *change permissions*"
   ]
  },
  {
   "cell_type": "markdown",
   "metadata": {},
   "source": [
    ">> <b>sudo chmod 775 /opt/anaconda3</b>\n",
    "![title](images/im2.png)\n",
    "![title](images/im3.png)"
   ]
  },
  {
   "cell_type": "markdown",
   "metadata": {},
   "source": [
    "> *create a folder for jupyterhub configuration*"
   ]
  },
  {
   "cell_type": "markdown",
   "metadata": {},
   "source": [
    ">> <b>sudo mkdir /etc/jupyterhub</b>\n",
    "![title](images/im4.png)"
   ]
  },
  {
   "cell_type": "markdown",
   "metadata": {},
   "source": [
    "> *change permissions*"
   ]
  },
  {
   "cell_type": "markdown",
   "metadata": {},
   "source": [
    ">> <b>sudo chmod 777 /etc/jupyterhub</b>\n",
    "![title](images/im5.png)\n",
    "![title](images/im6.png)"
   ]
  },
  {
   "cell_type": "markdown",
   "metadata": {},
   "source": [
    "> *create a folder for jupyterhub notebooks*"
   ]
  },
  {
   "cell_type": "markdown",
   "metadata": {},
   "source": [
    ">> <b>sudo mkdir /etc/jupyterhub/hub</b>\n",
    "![title](images/im7.png)"
   ]
  },
  {
   "cell_type": "markdown",
   "metadata": {},
   "source": [
    "> *change permissions*"
   ]
  },
  {
   "cell_type": "markdown",
   "metadata": {},
   "source": [
    ">> <b>sudo chmod 777 /etc/jupyterhub/hub</b>\n",
    "![title](images/im8.png)\n",
    "![title](images/im9.png)\n",
    "---"
   ]
  },
  {
   "cell_type": "markdown",
   "metadata": {},
   "source": [
    "## <b><center>Anaconda3<center></b>"
   ]
  },
  {
   "cell_type": "markdown",
   "metadata": {},
   "source": [
    "> *download the desired anaconda installation*"
   ]
  },
  {
   "cell_type": "markdown",
   "metadata": {},
   "source": [
    ">> <b>wget https://repo.anaconda.com/archive/Anaconda3-2020.11-Linux-x86_64.sh /tmp/Anaconda3-2020.11-Linux-x86_64.sh</b>"
   ]
  },
  {
   "cell_type": "markdown",
   "metadata": {},
   "source": [
    "> *Install Anaconda*"
   ]
  },
  {
   "cell_type": "markdown",
   "metadata": {},
   "source": [
    ">> <b>bash ./tmp/Anaconda3-2020.11-Linux-x86_64.sh</b>"
   ]
  },
  {
   "cell_type": "markdown",
   "metadata": {},
   "source": [
    "> *after install init anaconda*"
   ]
  },
  {
   "cell_type": "markdown",
   "metadata": {},
   "source": [
    ">> <b>conda init</b>"
   ]
  },
  {
   "cell_type": "markdown",
   "metadata": {},
   "source": [
    "> *add anaconda and conda scripts folder to sudoers secure path*"
   ]
  },
  {
   "cell_type": "markdown",
   "metadata": {},
   "source": [
    ">> <b>sudo nano /etc/sudoers</b>"
   ]
  },
  {
   "cell_type": "markdown",
   "metadata": {},
   "source": [
    "> *on <b>Defaults     secure_path=</b> add the following sentence:*"
   ]
  },
  {
   "cell_type": "markdown",
   "metadata": {},
   "source": [
    ">> <b>:/opt/anaconda3/condabin:/opt/anaconda3/bin</b>\n",
    "![title](images/im10.png)"
   ]
  },
  {
   "cell_type": "markdown",
   "metadata": {},
   "source": [
    "<b>*NOTE: now you can run conda and any internal anaconda script as sudo*</b>"
   ]
  },
  {
   "cell_type": "markdown",
   "metadata": {},
   "source": [
    "---"
   ]
  },
  {
   "cell_type": "markdown",
   "metadata": {},
   "source": [
    ">> <b></b>"
   ]
  },
  {
   "cell_type": "markdown",
   "metadata": {},
   "source": [
    "## <b><center>Nodejs<center></b>"
   ]
  },
  {
   "cell_type": "markdown",
   "metadata": {},
   "source": [
    "> *install nodejs via conda for environment integration with jupyterhub*"
   ]
  },
  {
   "cell_type": "markdown",
   "metadata": {},
   "source": [
    ">> <b>conda install nodejs -c conda-forge --repodata-fn=repodata.json</b>\n",
    "![title](images/im11.png)"
   ]
  },
  {
   "cell_type": "markdown",
   "metadata": {},
   "source": [
    "> *test your nodejs version*"
   ]
  },
  {
   "cell_type": "markdown",
   "metadata": {},
   "source": [
    ">> <b>nodejs -v</b>\n",
    "![title](images/im12.png)"
   ]
  },
  {
   "cell_type": "markdown",
   "metadata": {},
   "source": [
    "> *activate your conda environment and test your conda node package version*"
   ]
  },
  {
   "cell_type": "markdown",
   "metadata": {},
   "source": [
    ">> <b>conda activate base</b><br><b>node -v</b>\n",
    "![title](images/im13.png)"
   ]
  },
  {
   "cell_type": "markdown",
   "metadata": {},
   "source": [
    "---"
   ]
  },
  {
   "cell_type": "markdown",
   "metadata": {},
   "source": [
    "## <b><center>Jupyter Lab Widgets<center></b>"
   ]
  },
  {
   "cell_type": "markdown",
   "metadata": {},
   "source": [
    "> *install jupyter ipywidgets*"
   ]
  },
  {
   "cell_type": "markdown",
   "metadata": {},
   "source": [
    ">> <b>conda install -c conda-forge ipywidgets</b>\n",
    "![title](images/im14.png)"
   ]
  },
  {
   "cell_type": "markdown",
   "metadata": {},
   "source": [
    "> *install jupyter lab widgets*"
   ]
  },
  {
   "cell_type": "markdown",
   "metadata": {},
   "source": [
    ">> <b>conda install -n base -c conda-forge jupyterlab_widgets</b>\n",
    "![title](images/im15.png)"
   ]
  },
  {
   "cell_type": "markdown",
   "metadata": {},
   "source": [
    "> *now rebuild your jupyter lab*"
   ]
  },
  {
   "cell_type": "markdown",
   "metadata": {},
   "source": [
    ">> <b>jupyter lab build</b>\n",
    "![title](images/im16.png)"
   ]
  },
  {
   "cell_type": "markdown",
   "metadata": {},
   "source": [
    "> *create a default config for jupyter lab*"
   ]
  },
  {
   "cell_type": "markdown",
   "metadata": {},
   "source": [
    ">> <b>jupyter lab --generate-config</b>\n",
    "![title](images/im17.png)"
   ]
  },
  {
   "cell_type": "markdown",
   "metadata": {},
   "source": [
    " > *the result file is located on: <b>/home/user/.jupyter/jupyter_notebook_config.py</b>*\n",
    " ![title](images/im18.png)"
   ]
  },
  {
   "cell_type": "markdown",
   "metadata": {},
   "source": [
    "> *edit the fucking file*\n",
    "![title](images/im19.png)"
   ]
  },
  {
   "cell_type": "markdown",
   "metadata": {},
   "source": [
    "<b>*NOTE: this stupid file should be included in every user .jupyter folder and the permissions should be modify as: 775*</b>"
   ]
  },
  {
   "cell_type": "markdown",
   "metadata": {},
   "source": [
    "---"
   ]
  },
  {
   "cell_type": "markdown",
   "metadata": {},
   "source": [
    "## <b><center>Jupyter Hub<center></b>"
   ]
  },
  {
   "cell_type": "markdown",
   "metadata": {},
   "source": [
    "> *install jupyter hub*"
   ]
  },
  {
   "cell_type": "markdown",
   "metadata": {},
   "source": [
    ">> <b>conda install -c conda-forge jupyterhub</b>\n",
    "![title](images/im20.png)"
   ]
  },
  {
   "cell_type": "markdown",
   "metadata": {},
   "source": [
    "> *create a default config for jupyter hub*"
   ]
  },
  {
   "cell_type": "markdown",
   "metadata": {},
   "source": [
    ">> <b>cd /etc/jupyterhub</b><br><b>conda activate base</b><br><b>jupyterhub --generate-config</b>\n",
    "![title](images/im21.png)"
   ]
  },
  {
   "cell_type": "markdown",
   "metadata": {},
   "source": [
    "> *modify the file to open a jupyter-labhub spawner*"
   ]
  },
  {
   "cell_type": "markdown",
   "metadata": {},
   "source": [
    ">> <b>c.Spawner.cmd = ['jupyter-labhub']</b>\n",
    "![title](images/im22.png)"
   ]
  },
  {
   "cell_type": "markdown",
   "metadata": {},
   "source": [
    "> *on the root folder of this notebook, there is a folder: <b>service</b>.<br>copy the <b>jupyterhub</b> file, inside and place it in: <b>/etc/init.d/</b>*"
   ]
  },
  {
   "cell_type": "markdown",
   "metadata": {},
   "source": [
    ">> <b>sudo chmod +x /etc/init.d/jupyterhub</b><br><b>sudo systemctl daemon-reload</b><br><b>sudo service jupyterhub start</b><br><b>sudo service jupyterhub stop</b><br><b>sudo update-rc.d jupyterhub defaults</b>"
   ]
  },
  {
   "cell_type": "markdown",
   "metadata": {},
   "source": [
    ">>> *that's all, jupyter hub is ready to go on satrtup, all linux pam users on the system have acces*"
   ]
  },
  {
   "cell_type": "markdown",
   "metadata": {},
   "source": [
    "---"
   ]
  },
  {
   "cell_type": "markdown",
   "metadata": {},
   "source": [
    "## <b><center>VSFTP<center></b>"
   ]
  },
  {
   "cell_type": "markdown",
   "metadata": {},
   "source": [
    "> *install a ftp server*"
   ]
  },
  {
   "cell_type": "markdown",
   "metadata": {},
   "source": [
    ">> <b>sudo apt-get install vsftpd</b><br><b>sudo systemctl start vsftpd</b><br><b>sudo systemctl enable vsftpd</b>"
   ]
  },
  {
   "cell_type": "markdown",
   "metadata": {},
   "source": [
    ">>> *change the ftp config file*"
   ]
  },
  {
   "cell_type": "markdown",
   "metadata": {},
   "source": [
    ">>>> <b>sudo nano /etc/vsftpd.conf</b>"
   ]
  },
  {
   "cell_type": "markdown",
   "metadata": {},
   "source": [
    ">>>>> *set the following variables*"
   ]
  },
  {
   "cell_type": "markdown",
   "metadata": {},
   "source": [
    ">>>>>> <b>write_enable=YES</b><br><b>local_umask=022</b><br><b>chroot_local_user=YES</b><br><b>secure_chroot_dir=/etc/jupyterhub/hub/emisoras</b><br><b>pasv_enable=YES</b><br><b>pasv_min_port=10000</b><br><b>pasv_max_port=10100</b><br><b>allow_writable_chroot=YES</b>"
   ]
  }
 ],
 "metadata": {
  "kernelspec": {
   "display_name": "Python 3",
   "language": "python",
   "name": "python3"
  },
  "language_info": {
   "codemirror_mode": {
    "name": "ipython",
    "version": 3
   },
   "file_extension": ".py",
   "mimetype": "text/x-python",
   "name": "python",
   "nbconvert_exporter": "python",
   "pygments_lexer": "ipython3",
   "version": "3.8.5"
  }
 },
 "nbformat": 4,
 "nbformat_minor": 4
}